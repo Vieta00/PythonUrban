{
  "nbformat": 4,
  "nbformat_minor": 0,
  "metadata": {
    "colab": {
      "provenance": [],
      "collapsed_sections": []
    },
    "kernelspec": {
      "name": "python3",
      "display_name": "Python 3"
    },
    "language_info": {
      "name": "python"
    }
  },
  "cells": [
    {
      "cell_type": "markdown",
      "source": [
        "##### **Задача 1** "
      ],
      "metadata": {
        "id": "TJj0RE5LmZ7C"
      }
    },
    {
      "cell_type": "code",
      "execution_count": null,
      "metadata": {
        "id": "GnjKATNlakVX",
        "colab": {
          "base_uri": "https://localhost:8080/"
        },
        "outputId": "cd4d6af3-3000-40d0-8829-caceb2e4fc99"
      },
      "outputs": [
        {
          "output_type": "stream",
          "name": "stdout",
          "text": [
            "Индекс озеленения территории Пушкин равен 9.67%\n"
          ]
        }
      ],
      "source": [
        "class GreenZoneIndex:\n",
        "    def __init__(self, territory_name, territory_area, green_zones):\n",
        "        \"\"\"\n",
        "        :param territory_name: Название территории\n",
        "        :param territory_area: Площадь территории\n",
        "        :param green_zones: Список площадей парков\n",
        "        \"\"\"\n",
        "        self.territory_name = territory_name #атрибуты\n",
        "        self.territory_area = territory_area\n",
        "        self.green_zones = green_zones\n",
        "\n",
        "        self.green_index = None #особо не нужно\n",
        "        self.green_index = self.calculate_green_index()  # индекс озеленения\n",
        "\n",
        "    def calculate_green_index(self):\n",
        "        \"\"\"\n",
        "        Метод для вычисления индекса озеленения.\n",
        "\n",
        "        Индекс рассчитывается как отношение площади всех парков к площади территории\n",
        "        \"\"\"\n",
        "        calculate_green_index = sum(self.green_zones)/self.territory_area * 100 \n",
        "        return round(calculate_green_index, 2)\n",
        "\n",
        "\n",
        "territory_name = \"Пушкин\"\n",
        "territory_area = 28676\n",
        "green_zones = [302, 487, 420, 325, 471, 363, 404]\n",
        "\n",
        "example = GreenZoneIndex(territory_name, territory_area, green_zones)\n",
        "example.green_index\n",
        "print(f\"Индекс озеленения территории {example.territory_name} равен {example.green_index}%\")\n",
        "\n",
        "# Ожидаемый ответ Индекс озеленения территории Пушкин равен 9.67%\n"
      ]
    }
  ]
}