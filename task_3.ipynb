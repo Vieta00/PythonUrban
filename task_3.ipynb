{
  "nbformat": 4,
  "nbformat_minor": 0,
  "metadata": {
    "colab": {
      "provenance": [],
      "collapsed_sections": []
    },
    "kernelspec": {
      "name": "python3",
      "display_name": "Python 3"
    },
    "language_info": {
      "name": "python"
    }
  },
  "cells": [
    {
      "cell_type": "markdown",
      "source": [
        "##### ***Задача 3***"
      ],
      "metadata": {
        "id": "UmvFY4-Oo9i2"
      }
    },
    {
      "cell_type": "markdown",
      "source": [
        "Написать функцию `get_mean_green_index`,  \n",
        "которая в качестве аргумента принимает список объектов типа `GreenZoneIndex` и считает от них средний индекс озеленения. "
      ],
      "metadata": {
        "id": "CsoJ6DA4o_8F"
      }
    },
    {
      "cell_type": "code",
      "source": [
        "list_ter = []\n",
        "for ter in list_territories:\n",
        "    territory_name = ter.get(\"territory_name\")\n",
        "    territory_area = ter.get(\"territory_area\")\n",
        "    green_zones = ter.get(\"green_zones\")\n",
        "\n",
        "    ex = GreenZoneIndex(territory_name, territory_area, green_zones)\n",
        "    list_ter.append(ex.green_index)\n",
        "\n",
        "    def get_mean_green_index(item):\n",
        "        mean_value = sum(item)/len(item)\n",
        "\n",
        "        return round(mean_value, 2)\n",
        "\n",
        "\n",
        "print(get_mean_green_index(list_ter))\n"
      ],
      "metadata": {
        "id": "3x3x4t76o8oT",
        "colab": {
          "base_uri": "https://localhost:8080/"
        },
        "outputId": "b01dda1b-1379-4bc2-c172-67eb885bde45"
      },
      "execution_count": null,
      "outputs": [
        {
          "output_type": "stream",
          "name": "stdout",
          "text": [
            "8.67\n"
          ]
        }
      ]
    }
  ]
}