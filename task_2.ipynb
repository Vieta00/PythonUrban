{
  "nbformat": 4,
  "nbformat_minor": 0,
  "metadata": {
    "colab": {
      "provenance": [],
      "collapsed_sections": []
    },
    "kernelspec": {
      "name": "python3",
      "display_name": "Python 3"
    },
    "language_info": {
      "name": "python"
    }
  },
  "cells": [
    {
      "cell_type": "code",
      "source": [
        "list_territories = [\n",
        "    {\n",
        "        \"territory_name\": \"Пушкин\",\n",
        "        \"territory_area\": 28676,\n",
        "        \"green_zones\": [302, 487, 420, 325, 471, 363, 404]\n",
        "    },\n",
        "    {\n",
        "        \"territory_name\": \"Павловск\",\n",
        "        \"territory_area\": 21025,\n",
        "        \"green_zones\": [360, 375, 223, 258, 345, 296, 303]\n",
        "    },\n",
        "    {\n",
        "        \"territory_name\": \"Петергоф\",\n",
        "        \"territory_area\": 44274,\n",
        "        \"green_zones\": [364, 447, 438, 223, 336, 431, 442]\n",
        "    },\n",
        "]\n",
        "for city_dict in list_territories:\n",
        "    print(city_dict)"
      ],
      "metadata": {
        "id": "48scmiImcKCf",
        "colab": {
          "base_uri": "https://localhost:8080/"
        },
        "outputId": "5683b168-47fa-4b9d-d01d-5aa77b98ed6e"
      },
      "execution_count": null,
      "outputs": [
        {
          "output_type": "stream",
          "name": "stdout",
          "text": [
            "{'territory_name': 'Пушкин', 'territory_area': 28676, 'green_zones': [302, 487, 420, 325, 471, 363, 404]}\n",
            "{'territory_name': 'Павловск', 'territory_area': 21025, 'green_zones': [360, 375, 223, 258, 345, 296, 303]}\n",
            "{'territory_name': 'Петергоф', 'territory_area': 44274, 'green_zones': [364, 447, 438, 223, 336, 431, 442]}\n"
          ]
        }
      ]
    }
  ]
}