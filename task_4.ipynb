{
  "nbformat": 4,
  "nbformat_minor": 0,
  "metadata": {
    "colab": {
      "provenance": [],
      "collapsed_sections": []
    },
    "kernelspec": {
      "name": "python3",
      "display_name": "Python 3"
    },
    "language_info": {
      "name": "python"
    }
  },
  "cells": [
    {
      "cell_type": "markdown",
      "source": [
        "##### ***Задача 4***"
      ],
      "metadata": {
        "id": "SBLuQt2Ur2By"
      }
    },
    {
      "cell_type": "markdown",
      "source": [
        "Написать функцию `filter_min_green_index`,  \n",
        "которая в качестве аргументов принимает список объектов типа `GreenZoneIndex`  \n",
        "и минимальный порог озеленения, значение по умолчанию 0.1. \n",
        "\n",
        "Результатом функции должно быть число территорий,  \n",
        "индекс озеленения которых ниже заданного минимального порога. "
      ],
      "metadata": {
        "id": "SPTJtvr3r2By"
      }
    },
    {
      "cell_type": "code",
      "source": [
        "def filter_min_green_index(list_ter, minimum = 0.1):\n",
        "    a = 0\n",
        "    for a in list_ter:\n",
        "            if list_ter[a] > minimum:\n",
        "                a = a + 1\n",
        "                list_ter.append(a)\n",
        "\n",
        "    print(f\"Число территорий, индекс озеленения которых ниже заданного минимального порога равен {a}%\")\n",
        "    #Не получается вывести результат при любых заданных параметрах в принт"
      ],
      "metadata": {
        "id": "FA30f44-gFqF"
      },
      "execution_count": null,
      "outputs": []
    }
  ]
}